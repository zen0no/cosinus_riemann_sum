{
  "nbformat": 4,
  "nbformat_minor": 0,
  "metadata": {
    "colab": {
      "name": "Untitled4.ipynb",
      "provenance": [],
      "authorship_tag": "ABX9TyPJ9FBtqHeRpgwrGhW0LjPw"
    },
    "kernelspec": {
      "name": "python3",
      "display_name": "Python 3"
    },
    "language_info": {
      "name": "python"
    }
  },
  "cells": [
    {
      "cell_type": "code",
      "execution_count": 48,
      "metadata": {
        "id": "pR5zP1H_jZiW"
      },
      "outputs": [],
      "source": [
        "import numpy as np\n",
        "from matplotlib import pyplot as plt\n",
        "\n",
        "n = 6\n",
        "\n",
        "time = np.array([\n",
        "      np.array([\n",
        "       np.array([4.45, 5.05, 5.23]),\n",
        "       np.array([3.5, 3.21, 3.68]),\n",
        "       np.array([2.8, 2.92, 2.84]),\n",
        "       np.array([2.49, 2.56, 2.32])\n",
        "      ]),\n",
        "      np.array([\n",
        "       np.array([5.08, 5.11, 5.36]),\n",
        "       np.array([3.84, 3.93, 4.11]),\n",
        "       np.array([3.03, 3.02, 2.92]),\n",
        "       np.array([2.58, 2.66, 2.55])\n",
        "      ]),\n",
        "      np.array([\n",
        "       np.array([6.28, 6.59, 6.54]),\n",
        "       np.array([4.9, 4.76, 4.84]),\n",
        "       np.array([3.82, 3.93, 3.71]),\n",
        "       np.array([3.27, 3.36, 3.23])\n",
        "      ]),\n",
        "      np.array([\n",
        "       np.array([7.36, 7.53, 7.63]),\n",
        "       np.array([5.34, 5.36, 5.26]),\n",
        "       np.array([4.34, 4.51, 4.82]),\n",
        "       np.array([3.72, 3.65, 3.82])\n",
        "      ]),\n",
        "      np.array([\n",
        "       np.array([8.29, 8.13, 7.86]),\n",
        "       np.array([5.86, 5.96, 6.12]),\n",
        "       np.array([4.89, 4.98, 4.93]),\n",
        "       np.array([4.37, 4.26, 4.32])\n",
        "      ]),\n",
        "      np.array([\n",
        "       np.array([10.02, 9.75, 9.45]),\n",
        "       np.array([6.82, 6.92, 7.01]),\n",
        "       np.array([5.7, 5.36, 5.76]),\n",
        "       np.array([4.98, 4.92, 4.89])\n",
        "      ])\n",
        "])\n",
        "\n",
        "h = 0.7\n",
        "d = 0.046\n",
        "\n",
        "m_c = 0.047\n",
        "m_b = 0.22\n",
        "g = 9.81"
      ]
    },
    {
      "cell_type": "code",
      "source": [
        "t_average = np.array([[np.average(x) for x in y] for y in time])\n",
        "t_average"
      ],
      "metadata": {
        "colab": {
          "base_uri": "https://localhost:8080/"
        },
        "id": "uHCNGBLEmQWm",
        "outputId": "b86735ff-cdf2-4ed3-db16-72e7c815e361"
      },
      "execution_count": 49,
      "outputs": [
        {
          "output_type": "execute_result",
          "data": {
            "text/plain": [
              "array([[4.91      , 3.46333333, 2.85333333, 2.45666667],\n",
              "       [5.18333333, 3.96      , 2.99      , 2.59666667],\n",
              "       [6.47      , 4.83333333, 3.82      , 3.28666667],\n",
              "       [7.50666667, 5.32      , 4.55666667, 3.73      ],\n",
              "       [8.09333333, 5.98      , 4.93333333, 4.31666667],\n",
              "       [9.74      , 6.91666667, 5.60666667, 4.93      ]])"
            ]
          },
          "metadata": {},
          "execution_count": 49
        }
      ]
    },
    {
      "cell_type": "code",
      "source": [
        "t_std = np.array([[np.std(x) * (2 ** 0.5) * 4.30 for x in y] for y in time])\n",
        "t_std"
      ],
      "metadata": {
        "colab": {
          "base_uri": "https://localhost:8080/"
        },
        "id": "73YsSX-p0eRJ",
        "outputId": "a5aa4fba-330c-4fae-b7ec-4913e36e9679"
      },
      "execution_count": 50,
      "outputs": [
        {
          "output_type": "execute_result",
          "data": {
            "text/plain": [
              "array([[2.02785009, 1.17742903, 0.30337948, 0.61282334],\n",
              "       [0.76330888, 0.68260384, 0.30202207, 0.28233392],\n",
              "       [0.82637602, 0.34874505, 0.54617335, 0.33060013],\n",
              "       [0.67777118, 0.26273434, 1.20842836, 0.42422793],\n",
              "       [1.07910107, 0.65118149, 0.22389382, 0.27346257],\n",
              "       [1.41573868, 0.47191289, 1.07107506, 0.22753461]])"
            ]
          },
          "metadata": {},
          "execution_count": 50
        }
      ]
    },
    {
      "cell_type": "code",
      "source": [
        "a = np.array([2 * h / x ** 2 for x in t_average])\n",
        "a\n"
      ],
      "metadata": {
        "colab": {
          "base_uri": "https://localhost:8080/"
        },
        "id": "niudTBpNngfO",
        "outputId": "0dd9ca34-1c71-476d-e456-c78f6ea5104c"
      },
      "execution_count": 51,
      "outputs": [
        {
          "output_type": "execute_result",
          "data": {
            "text/plain": [
              "array([[0.05807177, 0.11671843, 0.17195825, 0.231972  ],\n",
              "       [0.05210864, 0.0892766 , 0.1565978 , 0.20763264],\n",
              "       [0.0334441 , 0.05992866, 0.09594035, 0.1296035 ],\n",
              "       [0.0248447 , 0.04946577, 0.06742695, 0.10062604],\n",
              "       [0.02137338, 0.03914945, 0.05752374, 0.07513305],\n",
              "       [0.01475741, 0.02926404, 0.04453675, 0.05760155]])"
            ]
          },
          "metadata": {},
          "execution_count": 51
        }
      ]
    },
    {
      "cell_type": "code",
      "source": [
        "a_error = np.array([[\n",
        "                    (\n",
        "                        (h / (t_average[i][j] ** 3) * t_std[i][j]) ** 2 + \n",
        "                        (2 / t_average[i][j] ** 2 * 0.0005 * 2 / 3) ** 2\n",
        "                    ) ** 0.5\n",
        "                   for j in range(4)] for i in range(6)])\n",
        "a_error"
      ],
      "metadata": {
        "colab": {
          "base_uri": "https://localhost:8080/"
        },
        "id": "Udo-jRWR2Av5",
        "outputId": "84e19d39-d79c-4d08-fe6b-f3b0429ad666"
      },
      "execution_count": 52,
      "outputs": [
        {
          "output_type": "execute_result",
          "data": {
            "text/plain": [
              "array([[0.01199197, 0.01984045, 0.00914206, 0.02893329],\n",
              "       [0.0038369 , 0.00769463, 0.00790938, 0.01128832],\n",
              "       [0.00213587, 0.00216224, 0.0068588 , 0.00651859],\n",
              "       [0.00112167, 0.00122169, 0.00894087, 0.0057225 ],\n",
              "       [0.00142491, 0.00213164, 0.00130561, 0.00238012],\n",
              "       [0.00107254, 0.00099842, 0.00425411, 0.00132953]])"
            ]
          },
          "metadata": {},
          "execution_count": 52
        }
      ]
    },
    {
      "cell_type": "code",
      "source": [
        "e = np.array([[2 * x / d for x in y] for y in a])\n",
        "e"
      ],
      "metadata": {
        "colab": {
          "base_uri": "https://localhost:8080/"
        },
        "id": "gnZYiEO1mkUi",
        "outputId": "3a9979d4-0587-4c80-93de-b952d972e400"
      },
      "execution_count": 53,
      "outputs": [
        {
          "output_type": "execute_result",
          "data": {
            "text/plain": [
              "array([[ 2.5248595 ,  5.0747145 ,  7.47644564, 10.08573919],\n",
              "       [ 2.26559315,  3.8815915 ,  6.80860004,  9.02750617],\n",
              "       [ 1.45409117,  2.60559375,  4.17131967,  5.63493459],\n",
              "       [ 1.08020439,  2.15068564,  2.93160653,  4.37504512],\n",
              "       [ 0.92927733,  1.70215001,  2.50103217,  3.26665427],\n",
              "       [ 0.64162649,  1.27234974,  1.93638061,  2.50441537]])"
            ]
          },
          "metadata": {},
          "execution_count": 53
        }
      ]
    },
    {
      "cell_type": "code",
      "source": [
        "e_error = np.array([[\n",
        "                    (\n",
        "                        (2 / d * a_error[i][j]) ** 2 + \n",
        "                        (2 * a[i][j] / d ** 2 * 0.0005 * 2 / 3) ** 2\n",
        "                     ) ** 0.5\n",
        "                   for j in range(4)] for i in range(6)])\n",
        "e_error"
      ],
      "metadata": {
        "colab": {
          "base_uri": "https://localhost:8080/"
        },
        "id": "2XnKh0gO5nht",
        "outputId": "c3c86ae1-041d-42e4-c160-b5a39a20d240"
      },
      "execution_count": 54,
      "outputs": [
        {
          "output_type": "execute_result",
          "data": {
            "text/plain": [
              "array([[0.52171095, 0.86341189, 0.40115615, 1.26009033],\n",
              "       [0.16762745, 0.33572954, 0.34740734, 0.49513675],\n",
              "       [0.09345983, 0.09588769, 0.29973668, 0.28634323],\n",
              "       [0.04939232, 0.05535602, 0.38931367, 0.25081619],\n",
              "       [0.06231772, 0.09349702, 0.05958868, 0.10615647],\n",
              "       [0.0468634 , 0.04437773, 0.18549296, 0.06058735]])"
            ]
          },
          "metadata": {},
          "execution_count": 54
        }
      ]
    },
    {
      "cell_type": "code",
      "source": [
        "M = np.array([[(m_c + m_b * (1 + i)) * d / 2 * (g - elem) for i, elem in enumerate(x)] for x in a])\n",
        "M"
      ],
      "metadata": {
        "colab": {
          "base_uri": "https://localhost:8080/"
        },
        "id": "VpydIXR_obGn",
        "outputId": "6fefb1c5-a354-4dd8-89d3-1da78ae9b014"
      },
      "execution_count": 55,
      "outputs": [
        {
          "output_type": "execute_result",
          "data": {
            "text/plain": [
              "array([[0.05988659, 0.10857445, 0.1567242 , 0.20421313],\n",
              "       [0.05992321, 0.10888182, 0.15697397, 0.20473207],\n",
              "       [0.06003783, 0.10921055, 0.15796032, 0.20639573],\n",
              "       [0.06009064, 0.10932774, 0.15842398, 0.20701356],\n",
              "       [0.06011196, 0.1094433 , 0.15858502, 0.2075571 ],\n",
              "       [0.06015258, 0.10955402, 0.1587962 , 0.20793089]])"
            ]
          },
          "metadata": {},
          "execution_count": 55
        }
      ]
    },
    {
      "cell_type": "code",
      "source": [
        "M_error = np.array([[\n",
        "                    (\n",
        "                        (((m_c + m_b * (1 + i))) * d / 2 * a_error[i][j]) ** 2 + \n",
        "                        ( (m_c + m_b * (1 + i)) * (g - a[i][j]) / 2 * 0.0005 * 2 / 3) ** 2\n",
        "                     ) ** 0.5\n",
        "                   for j in range(4)] for i in range(6)])\n",
        "M_error"
      ],
      "metadata": {
        "colab": {
          "base_uri": "https://localhost:8080/"
        },
        "id": "2Y3OZ_vz7yFq",
        "outputId": "91b1f1bb-a278-43e7-ba63-26f96999bc6c"
      },
      "execution_count": 56,
      "outputs": [
        {
          "output_type": "execute_result",
          "data": {
            "text/plain": [
              "array([[0.00044017, 0.00044823, 0.00043255, 0.00046177],\n",
              "       [0.00079318, 0.00079369, 0.00078853, 0.00078958],\n",
              "       [0.00115253, 0.00114942, 0.00115006, 0.00114559],\n",
              "       [0.001512  , 0.00150823, 0.00151725, 0.00150505],\n",
              "       [0.00187164, 0.00186871, 0.00186467, 0.00186204],\n",
              "       [0.00223194, 0.0022286 , 0.00222891, 0.00222231]])"
            ]
          },
          "metadata": {},
          "execution_count": 56
        }
      ]
    },
    {
      "cell_type": "code",
      "source": [
        "from scipy.optimize import leastsq\n",
        "\n",
        "def f(params, x, y):\n",
        "  return y - (params[1] + params[0] * x)\n",
        "\n",
        "\n",
        "I = [int() for _ in range(n)]\n",
        "M_tr = [int() for _ in range(n)]\n",
        "for i in range(n):\n",
        "  params = [0, 0]\n",
        "  result = leastsq(f, params, (e[i], M[i]))\n",
        "  I[i] = result[0][0]\n",
        "  M_tr[i] = result[0][1]\n",
        "\n",
        "I = np.array(I)\n",
        "M_tr = np.array(M_tr)\n",
        "I, M_tr"
      ],
      "metadata": {
        "colab": {
          "base_uri": "https://localhost:8080/"
        },
        "id": "ev029MJssaF9",
        "outputId": "1b6cff77-d2e2-4437-9da2-5e2d2536d712"
      },
      "execution_count": 71,
      "outputs": [
        {
          "output_type": "execute_result",
          "data": {
            "text/plain": [
              "(array([0.01917542, 0.02055326, 0.03444069, 0.04527879, 0.06291735,\n",
              "        0.07871085]),\n",
              " array([0.0117278 , 0.01967072, 0.01401297, 0.01443221, 0.00181184,\n",
              "        0.00906104]))"
            ]
          },
          "metadata": {},
          "execution_count": 71
        }
      ]
    },
    {
      "cell_type": "code",
      "source": [
        ""
      ],
      "metadata": {
        "id": "aZFopPp1rDW6"
      },
      "execution_count": 57,
      "outputs": []
    },
    {
      "cell_type": "code",
      "source": [
        "\n",
        "for i in range(n):\n",
        "  plt.errorbar(e[i], M[i], xerr=e_error[i], yerr=M_error[i], fmt='o', color='r')\n",
        "  plt.plot(e[i], I[i] * e[i] + M_tr[i])\n",
        "  plt.show()"
      ],
      "metadata": {
        "colab": {
          "base_uri": "https://localhost:8080/",
          "height": 1000
        },
        "id": "cF04Ic3ZqKSC",
        "outputId": "7ded5a58-425b-4442-f62e-a64dc98a98f3"
      },
      "execution_count": 58,
      "outputs": [
        {
          "output_type": "display_data",
          "data": {
            "text/plain": [
              "<Figure size 432x288 with 1 Axes>"
            ],
            "image/png": "[encoded data removed]"
          },
          "metadata": {
            "needs_background": "light"
          }
        },
        {
          "output_type": "display_data",
          "data": {
            "text/plain": [
              "<Figure size 432x288 with 1 Axes>"
            ],
            "image/png": "[encoded data removed]"
          },
          "metadata": {
            "needs_background": "light"
          }
        },
        {
          "output_type": "display_data",
          "data": {
            "text/plain": [
              "<Figure size 432x288 with 1 Axes>"
            ],
            "image/png": "[encoded data removed]"
          },
          "metadata": {
            "needs_background": "light"
          }
        },
        {
          "output_type": "display_data",
          "data": {
            "text/plain": [
              "<Figure size 432x288 with 1 Axes>"
            ],
            "image/png": "[encoded data removed]"
          },
          "metadata": {
            "needs_background": "light"
          }
        },
        {
          "output_type": "display_data",
          "data": {
            "text/plain": [
              "<Figure size 432x288 with 1 Axes>"
            ],
            "image/png": "[encoded data removed]"
          },
          "metadata": {
            "needs_background": "light"
          }
        },
        {
          "output_type": "display_data",
          "data": {
            "text/plain": [
              "<Figure size 432x288 with 1 Axes>"
            ],
            "image/png": "[encoded data removed]"
          },
          "metadata": {
            "needs_background": "light"
          }
        }
      ]
    },
    {
      "cell_type": "code",
      "source": [
        "l = 0.057\n",
        "l0 = 0.025\n",
        "b = 0.040\n",
        "\n",
        "R2 = np.array([l + i * l0 + 0.5 * b for i in range(n)]) ** 2\n",
        "R2"
      ],
      "metadata": {
        "colab": {
          "base_uri": "https://localhost:8080/"
        },
        "id": "t5WOVvzie4FL",
        "outputId": "95d55832-6ed6-4292-a218-b6b7a7c09629"
      },
      "execution_count": 63,
      "outputs": [
        {
          "output_type": "execute_result",
          "data": {
            "text/plain": [
              "array([0.005929, 0.010404, 0.016129, 0.023104, 0.031329, 0.040804])"
            ]
          },
          "metadata": {},
          "execution_count": 63
        }
      ]
    },
    {
      "cell_type": "code",
      "source": [
        "result = leastsq(f, [0, 0], (R2, I))\n",
        "I0, my = result[0][1], result[0][0]\n",
        "print(I0, my)"
      ],
      "metadata": {
        "colab": {
          "base_uri": "https://localhost:8080/"
        },
        "id": "v7DJoOxSfs4f",
        "outputId": "006d55c2-ad1f-45c8-d8fb-070eb94ef7b5"
      },
      "execution_count": 60,
      "outputs": [
        {
          "output_type": "stream",
          "name": "stdout",
          "text": [
            "0.005283609231566106 1.7962137417325887\n"
          ]
        }
      ]
    },
    {
      "cell_type": "code",
      "source": [
        "d = f([my, I0], R2, I)\n",
        "print(d)\n",
        "\n",
        "D = np.sum((R2 - np.average(R2)) ** 2)\n",
        "print(D)"
      ],
      "metadata": {
        "colab": {
          "base_uri": "https://localhost:8080/"
        },
        "id": "GHusdy13sa18",
        "outputId": "c65a613b-d320-4059-f9a6-cdfc5f4fa5b0"
      },
      "execution_count": 82,
      "outputs": [
        {
          "output_type": "stream",
          "name": "stdout",
          "text": [
            "[ 0.00324206 -0.00341816  0.00018595 -0.00150455  0.00136016  0.00013454]\n",
            "0.0008659692708333329\n"
          ]
        }
      ]
    },
    {
      "cell_type": "code",
      "source": [
        "I0_error = (1 / 6 + np.average(I) ** 2 / D) * np.sum(d ** 2) / 4 * 2.57\n",
        "I0_error"
      ],
      "metadata": {
        "colab": {
          "base_uri": "https://localhost:8080/"
        },
        "id": "lb1cU8Vit9R7",
        "outputId": "c7b470fe-4a26-4109-93e5-531598569a2f"
      },
      "execution_count": 85,
      "outputs": [
        {
          "output_type": "execute_result",
          "data": {
            "text/plain": [
              "3.9853985987699635e-05"
            ]
          },
          "metadata": {},
          "execution_count": 85
        }
      ]
    },
    {
      "cell_type": "code",
      "source": [
        "my_error =  (np.average(I) ** 2 / D) * np.sum(d ** 2) / 4 * 2.57\n",
        "my_error"
      ],
      "metadata": {
        "colab": {
          "base_uri": "https://localhost:8080/"
        },
        "id": "85np4Pr2wGyK",
        "outputId": "6fa968d4-10c8-4803-8e06-1fdb0eabb891"
      },
      "execution_count": 86,
      "outputs": [
        {
          "output_type": "execute_result",
          "data": {
            "text/plain": [
              "3.7031148747797315e-05"
            ]
          },
          "metadata": {},
          "execution_count": 86
        }
      ]
    },
    {
      "cell_type": "code",
      "source": [
        "plt.plot(R2, I0 + my * R2)\n",
        "plt.scatter(R2, I, marker='o')"
      ],
      "metadata": {
        "colab": {
          "base_uri": "https://localhost:8080/",
          "height": 282
        },
        "id": "mYNIKmhigHwn",
        "outputId": "7dc50a62-64fe-4466-da24-8a3d7adcb4a9"
      },
      "execution_count": 61,
      "outputs": [
        {
          "output_type": "execute_result",
          "data": {
            "text/plain": [
              "<matplotlib.collections.PathCollection at 0x7f974a163c10>"
            ]
          },
          "metadata": {},
          "execution_count": 61
        },
        {
          "output_type": "display_data",
          "data": {
            "text/plain": [
              "<Figure size 432x288 with 1 Axes>"
            ],
            "image/png": "[encoded data removed]"
          },
          "metadata": {
            "needs_background": "light"
          }
        }
      ]
    }
  ]
}